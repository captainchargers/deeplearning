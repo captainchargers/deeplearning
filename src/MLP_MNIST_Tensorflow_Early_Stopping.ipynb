{
 "cells": [
  {
   "cell_type": "markdown",
   "metadata": {},
   "source": [
    "# MLP (MNIST, Tensorflow) with Early Stopping\n",
    "In this tutorial, we will apply early stopping on MNIST MLP tensorflow code.  "
   ]
  },
  {
   "cell_type": "code",
   "execution_count": 1,
   "metadata": {},
   "outputs": [],
   "source": [
    "import tensorflow as tf\n",
    "import numpy as np\n",
    "from IPython.display import Image"
   ]
  },
  {
   "cell_type": "markdown",
   "metadata": {},
   "source": [
    "# MLP Architecture\n",
    "here is the overview of MLP architecture we will implement with Tensorflow"
   ]
  },
  {
   "cell_type": "code",
   "execution_count": 2,
   "metadata": {},
   "outputs": [
    {
     "data": {
      "text/html": [
       "<img src=\"https://raw.githubusercontent.com/minsuk-heo/deeplearning/master/img/simple_mlp_mnist.png\" width=\"500\" height=\"250\"/>"
      ],
      "text/plain": [
       "<IPython.core.display.Image object>"
      ]
     },
     "execution_count": 2,
     "metadata": {},
     "output_type": "execute_result"
    }
   ],
   "source": [
    "Image(url= \"https://raw.githubusercontent.com/minsuk-heo/deeplearning/master/img/simple_mlp_mnist.png\", width=500, height=250)"
   ]
  },
  {
   "cell_type": "markdown",
   "metadata": {},
   "source": [
    "# Collect MNIST Data"
   ]
  },
  {
   "cell_type": "code",
   "execution_count": 3,
   "metadata": {},
   "outputs": [],
   "source": [
    "(x_train, y_train), (x_test, y_test) = tf.keras.datasets.mnist.load_data()"
   ]
  },
  {
   "cell_type": "code",
   "execution_count": 4,
   "metadata": {},
   "outputs": [
    {
     "name": "stdout",
     "output_type": "stream",
     "text": [
      "(60000, 28, 28)\n",
      "(10000, 28, 28)\n"
     ]
    }
   ],
   "source": [
    "print(x_train.shape)\n",
    "print(x_test.shape)"
   ]
  },
  {
   "cell_type": "markdown",
   "metadata": {},
   "source": [
    "train data has **60000** samples  \n",
    "test data has **10000** samples   \n",
    "every data is **28 * 28** pixels  \n",
    "\n",
    "below image shows 28*28 pixel image sample for hand written number '0' from MNIST data.  \n",
    "MNIST is gray scale image [0 to 255] for hand written number."
   ]
  },
  {
   "cell_type": "markdown",
   "metadata": {},
   "source": [
    "![0 from MNIST](https://raw.githubusercontent.com/minsuk-heo/deeplearning/master/img/mnist_sample.png)"
   ]
  },
  {
   "cell_type": "markdown",
   "metadata": {},
   "source": [
    "# Split train data into train and validation data\n",
    "Validation during training gives advantages below,  \n",
    "1) check if train goes well based on validation score  \n",
    "2) apply **early stopping** when validation score doesn't improve while train score goes up (overcome **overfitting**)"
   ]
  },
  {
   "cell_type": "code",
   "execution_count": 5,
   "metadata": {},
   "outputs": [],
   "source": [
    "x_val  = x_train[50000:60000]\n",
    "x_train = x_train[0:50000]\n",
    "y_val  = y_train[50000:60000]\n",
    "y_train = y_train[0:50000]"
   ]
  },
  {
   "cell_type": "code",
   "execution_count": 6,
   "metadata": {},
   "outputs": [
    {
     "name": "stdout",
     "output_type": "stream",
     "text": [
      "train data has 50000 samples\n",
      "every train data is 28 * 28 image\n"
     ]
    }
   ],
   "source": [
    "print(\"train data has \" + str(x_train.shape[0]) + \" samples\")\n",
    "print(\"every train data is \" + str(x_train.shape[1]) \n",
    "      + \" * \" + str(x_train.shape[2]) + \" image\")"
   ]
  },
  {
   "cell_type": "code",
   "execution_count": 7,
   "metadata": {},
   "outputs": [
    {
     "name": "stdout",
     "output_type": "stream",
     "text": [
      "validation data has 10000 samples\n",
      "every train data is 28 * 28 image\n"
     ]
    }
   ],
   "source": [
    "print(\"validation data has \" + str(x_val.shape[0]) + \" samples\")\n",
    "print(\"every train data is \" + str(x_val.shape[1]) \n",
    "      + \" * \" + str(x_train.shape[2]) + \" image\")"
   ]
  },
  {
   "cell_type": "markdown",
   "metadata": {},
   "source": [
    "28 * 28 pixels has gray scale value from **0** to **255**"
   ]
  },
  {
   "cell_type": "code",
   "execution_count": 8,
   "metadata": {},
   "outputs": [
    {
     "name": "stdout",
     "output_type": "stream",
     "text": [
      "[  0   0   0   0   0   0   0  18 219 253 253 253 253 253 198 182 247 241\n",
      "   0   0   0   0   0   0   0   0   0   0]\n"
     ]
    }
   ],
   "source": [
    "# sample to show gray scale values\n",
    "print(x_train[0][8])"
   ]
  },
  {
   "cell_type": "markdown",
   "metadata": {},
   "source": [
    "each train data has its label **0** to **9**"
   ]
  },
  {
   "cell_type": "code",
   "execution_count": 9,
   "metadata": {},
   "outputs": [
    {
     "name": "stdout",
     "output_type": "stream",
     "text": [
      "[5 0 4 1 9 2 1 3 1]\n"
     ]
    }
   ],
   "source": [
    "# sample to show labels for first train data to 10th train data\n",
    "print(y_train[0:9])"
   ]
  },
  {
   "cell_type": "markdown",
   "metadata": {},
   "source": [
    "test data has **10000** samples  \n",
    "every test data is **28 * 28** image  "
   ]
  },
  {
   "cell_type": "code",
   "execution_count": 10,
   "metadata": {},
   "outputs": [
    {
     "name": "stdout",
     "output_type": "stream",
     "text": [
      "test data has 10000 samples\n",
      "every test data is 28 * 28 image\n"
     ]
    }
   ],
   "source": [
    "print(\"test data has \" + str(x_test.shape[0]) + \" samples\")\n",
    "print(\"every test data is \" + str(x_test.shape[1]) \n",
    "      + \" * \" + str(x_test.shape[2]) + \" image\")"
   ]
  },
  {
   "cell_type": "markdown",
   "metadata": {},
   "source": [
    "# Reshape\n",
    "In order to fully connect all pixels to hidden layer,  \n",
    "we will reshape (28, 28) into (28x28,1) shape.  \n",
    "It means we flatten row x column shape to an array having 28x28 (756) items."
   ]
  },
  {
   "cell_type": "code",
   "execution_count": 11,
   "metadata": {},
   "outputs": [
    {
     "data": {
      "text/html": [
       "<img src=\"https://raw.githubusercontent.com/minsuk-heo/deeplearning/master/img/reshape_mnist.png\" width=\"500\" height=\"250\"/>"
      ],
      "text/plain": [
       "<IPython.core.display.Image object>"
      ]
     },
     "execution_count": 11,
     "metadata": {},
     "output_type": "execute_result"
    }
   ],
   "source": [
    "Image(url= \"https://raw.githubusercontent.com/minsuk-heo/deeplearning/master/img/reshape_mnist.png\", width=500, height=250)"
   ]
  },
  {
   "cell_type": "code",
   "execution_count": 12,
   "metadata": {},
   "outputs": [
    {
     "name": "stdout",
     "output_type": "stream",
     "text": [
      "(50000, 784)\n",
      "(10000, 784)\n"
     ]
    }
   ],
   "source": [
    "x_train = x_train.reshape(50000, 784)\n",
    "x_val = x_val.reshape(10000, 784)\n",
    "x_test = x_test.reshape(10000, 784)\n",
    "\n",
    "print(x_train.shape)\n",
    "print(x_test.shape)"
   ]
  },
  {
   "cell_type": "code",
   "execution_count": 13,
   "metadata": {},
   "outputs": [
    {
     "data": {
      "text/plain": [
       "array([  0,   0,   0,   0,   0,   0,   0,   0,   0,   0,   0,   0,   0,\n",
       "         0,   0,   0,   0,   0,   0,   0,   0,   0,   0,   0,   0,   0,\n",
       "         0,   0,   0,   0,   0,   0,   0,   0,   0,   0,   0,   0,   0,\n",
       "         0,   0,   0,   0,   0,   0,   0,   0,   0,   0,   0,   0,   0,\n",
       "         0,   0,   0,   0,   0,   0,   0,   0,   0,   0,   0,   0,   0,\n",
       "         0,   0,   0,   0,   0,   0,   0,   0,   0,   0,   0,   0,   0,\n",
       "         0,   0,   0,   0,   0,   0,   0,   0,   0,   0,   0,   0,   0,\n",
       "         0,   0,   0,   0,   0,   0,   0,   0,   0,   0,   0,   0,   0,\n",
       "         0,   0,   0,   0,   0,   0,   0,   0,   0,   0,   0,   0,   0,\n",
       "         0,   0,   0,   0,   0,   0,   0,   0,   0,   0,   0,   0,   0,\n",
       "         0,   0,   0,   0,   0,   0,   0,   0,   0,   0,   0,   0,   0,\n",
       "         0,   0,   0,   0,   0,   0,   0,   0,   0,   3,  18,  18,  18,\n",
       "       126, 136, 175,  26, 166, 255, 247, 127,   0,   0,   0,   0,   0,\n",
       "         0,   0,   0,   0,   0,   0,   0,  30,  36,  94, 154, 170, 253,\n",
       "       253, 253, 253, 253, 225, 172, 253, 242, 195,  64,   0,   0,   0,\n",
       "         0,   0,   0,   0,   0,   0,   0,   0,  49, 238, 253, 253, 253,\n",
       "       253, 253, 253, 253, 253, 251,  93,  82,  82,  56,  39,   0,   0,\n",
       "         0,   0,   0,   0,   0,   0,   0,   0,   0,   0,  18, 219, 253,\n",
       "       253, 253, 253, 253, 198, 182, 247, 241,   0,   0,   0,   0,   0,\n",
       "         0,   0,   0,   0,   0,   0,   0,   0,   0,   0,   0,   0,   0,\n",
       "        80, 156, 107, 253, 253, 205,  11,   0,  43, 154,   0,   0,   0,\n",
       "         0,   0,   0,   0,   0,   0,   0,   0,   0,   0,   0,   0,   0,\n",
       "         0,   0,   0,  14,   1, 154, 253,  90,   0,   0,   0,   0,   0,\n",
       "         0,   0,   0,   0,   0,   0,   0,   0,   0,   0,   0,   0,   0,\n",
       "         0,   0,   0,   0,   0,   0,   0, 139, 253, 190,   2,   0,   0,\n",
       "         0,   0,   0,   0,   0,   0,   0,   0,   0,   0,   0,   0,   0,\n",
       "         0,   0,   0,   0,   0,   0,   0,   0,   0,  11, 190, 253,  70,\n",
       "         0,   0,   0,   0,   0,   0,   0,   0,   0,   0,   0,   0,   0,\n",
       "         0,   0,   0,   0,   0,   0,   0,   0,   0,   0,   0,   0,  35,\n",
       "       241, 225, 160, 108,   1,   0,   0,   0,   0,   0,   0,   0,   0,\n",
       "         0,   0,   0,   0,   0,   0,   0,   0,   0,   0,   0,   0,   0,\n",
       "         0,   0,  81, 240, 253, 253, 119,  25,   0,   0,   0,   0,   0,\n",
       "         0,   0,   0,   0,   0,   0,   0,   0,   0,   0,   0,   0,   0,\n",
       "         0,   0,   0,   0,   0,  45, 186, 253, 253, 150,  27,   0,   0,\n",
       "         0,   0,   0,   0,   0,   0,   0,   0,   0,   0,   0,   0,   0,\n",
       "         0,   0,   0,   0,   0,   0,   0,   0,  16,  93, 252, 253, 187,\n",
       "         0,   0,   0,   0,   0,   0,   0,   0,   0,   0,   0,   0,   0,\n",
       "         0,   0,   0,   0,   0,   0,   0,   0,   0,   0,   0,   0, 249,\n",
       "       253, 249,  64,   0,   0,   0,   0,   0,   0,   0,   0,   0,   0,\n",
       "         0,   0,   0,   0,   0,   0,   0,   0,   0,   0,   0,  46, 130,\n",
       "       183, 253, 253, 207,   2,   0,   0,   0,   0,   0,   0,   0,   0,\n",
       "         0,   0,   0,   0,   0,   0,   0,   0,   0,   0,   0,  39, 148,\n",
       "       229, 253, 253, 253, 250, 182,   0,   0,   0,   0,   0,   0,   0,\n",
       "         0,   0,   0,   0,   0,   0,   0,   0,   0,   0,   0,  24, 114,\n",
       "       221, 253, 253, 253, 253, 201,  78,   0,   0,   0,   0,   0,   0,\n",
       "         0,   0,   0,   0,   0,   0,   0,   0,   0,   0,   0,  23,  66,\n",
       "       213, 253, 253, 253, 253, 198,  81,   2,   0,   0,   0,   0,   0,\n",
       "         0,   0,   0,   0,   0,   0,   0,   0,   0,   0,   0,  18, 171,\n",
       "       219, 253, 253, 253, 253, 195,  80,   9,   0,   0,   0,   0,   0,\n",
       "         0,   0,   0,   0,   0,   0,   0,   0,   0,   0,   0,  55, 172,\n",
       "       226, 253, 253, 253, 253, 244, 133,  11,   0,   0,   0,   0,   0,\n",
       "         0,   0,   0,   0,   0,   0,   0,   0,   0,   0,   0,   0,   0,\n",
       "       136, 253, 253, 253, 212, 135, 132,  16,   0,   0,   0,   0,   0,\n",
       "         0,   0,   0,   0,   0,   0,   0,   0,   0,   0,   0,   0,   0,\n",
       "         0,   0,   0,   0,   0,   0,   0,   0,   0,   0,   0,   0,   0,\n",
       "         0,   0,   0,   0,   0,   0,   0,   0,   0,   0,   0,   0,   0,\n",
       "         0,   0,   0,   0,   0,   0,   0,   0,   0,   0,   0,   0,   0,\n",
       "         0,   0,   0,   0,   0,   0,   0,   0,   0,   0,   0,   0,   0,\n",
       "         0,   0,   0,   0,   0,   0,   0,   0,   0,   0,   0,   0,   0,\n",
       "         0,   0,   0,   0,   0,   0,   0,   0,   0,   0,   0,   0,   0,\n",
       "         0,   0,   0,   0], dtype=uint8)"
      ]
     },
     "execution_count": 13,
     "metadata": {},
     "output_type": "execute_result"
    }
   ],
   "source": [
    "x_train[0]"
   ]
  },
  {
   "cell_type": "markdown",
   "metadata": {},
   "source": [
    "# Normalize data\n",
    "normalization usually helps faster learning speed, better performance  \n",
    "by reducing variance and giving same range to all input features.  \n",
    "since MNIST data set all input has 0 to 255, normalization only helps reducing variances.  \n",
    "it turned out normalization is better than standardization for MNIST data with my MLP architeture,    \n",
    "I believe this is because relu handles 0 differently on both feed forward and back propagation.  \n",
    "handling 0 differently is important for MNIST, since 1-255 means there is some hand written,  \n",
    "while 0 means no hand written on that pixel."
   ]
  },
  {
   "cell_type": "code",
   "execution_count": 14,
   "metadata": {},
   "outputs": [],
   "source": [
    "x_train = x_train.astype('float32')\n",
    "x_val = x_val.astype('float32')\n",
    "x_test = x_test.astype('float32')\n",
    "\n",
    "gray_scale = 255\n",
    "x_train /= gray_scale\n",
    "x_val /= gray_scale\n",
    "x_test /= gray_scale"
   ]
  },
  {
   "cell_type": "markdown",
   "metadata": {},
   "source": [
    "# label to one hot encoding value"
   ]
  },
  {
   "cell_type": "code",
   "execution_count": 15,
   "metadata": {},
   "outputs": [],
   "source": [
    "num_classes = 10\n",
    "y_train = tf.keras.utils.to_categorical(y_train, num_classes)\n",
    "y_val = tf.keras.utils.to_categorical(y_val, num_classes)\n",
    "y_test = tf.keras.utils.to_categorical(y_test, num_classes)"
   ]
  },
  {
   "cell_type": "code",
   "execution_count": 16,
   "metadata": {},
   "outputs": [
    {
     "data": {
      "text/plain": [
       "array([[0., 0., 0., ..., 0., 0., 0.],\n",
       "       [1., 0., 0., ..., 0., 0., 0.],\n",
       "       [0., 0., 0., ..., 0., 0., 0.],\n",
       "       ...,\n",
       "       [0., 0., 0., ..., 0., 1., 0.],\n",
       "       [0., 0., 0., ..., 0., 0., 0.],\n",
       "       [0., 0., 0., ..., 0., 1., 0.]])"
      ]
     },
     "execution_count": 16,
     "metadata": {},
     "output_type": "execute_result"
    }
   ],
   "source": [
    "y_train"
   ]
  },
  {
   "cell_type": "markdown",
   "metadata": {},
   "source": [
    "# Tensorflow MLP Graph\n",
    "Let's implement the MLP graph with Tensorflow"
   ]
  },
  {
   "cell_type": "code",
   "execution_count": 17,
   "metadata": {},
   "outputs": [
    {
     "data": {
      "text/html": [
       "<img src=\"https://raw.githubusercontent.com/minsuk-heo/deeplearning/master/img/simple_mlp_mnist.png\" width=\"500\" height=\"250\"/>"
      ],
      "text/plain": [
       "<IPython.core.display.Image object>"
      ]
     },
     "execution_count": 17,
     "metadata": {},
     "output_type": "execute_result"
    }
   ],
   "source": [
    "Image(url= \"https://raw.githubusercontent.com/minsuk-heo/deeplearning/master/img/simple_mlp_mnist.png\", width=500, height=250)"
   ]
  },
  {
   "cell_type": "code",
   "execution_count": 18,
   "metadata": {},
   "outputs": [],
   "source": [
    "x = tf.placeholder(tf.float32, [None, 784])\n",
    "y = tf.placeholder(tf.float32, [None, 10])"
   ]
  },
  {
   "cell_type": "code",
   "execution_count": 19,
   "metadata": {},
   "outputs": [],
   "source": [
    "def mlp(x):\n",
    "    # hidden layer1\n",
    "    w1 = tf.Variable(tf.random_uniform([784,256]))\n",
    "    b1 = tf.Variable(tf.zeros([256]))\n",
    "    h1 = tf.nn.relu(tf.matmul(x, w1) + b1)\n",
    "    # hidden layer2\n",
    "    w2 = tf.Variable(tf.random_uniform([256,128]))\n",
    "    b2 = tf.Variable(tf.zeros([128]))\n",
    "    h2 = tf.nn.relu(tf.matmul(h1, w2) + b2)\n",
    "    # output layer\n",
    "    w3 = tf.Variable(tf.random_uniform([128,10]))\n",
    "    b3 = tf.Variable(tf.zeros([10]))\n",
    "    logits= tf.matmul(h2, w3) + b3\n",
    "    \n",
    "    return logits"
   ]
  },
  {
   "cell_type": "code",
   "execution_count": 20,
   "metadata": {},
   "outputs": [],
   "source": [
    "logits = mlp(x)"
   ]
  },
  {
   "cell_type": "code",
   "execution_count": 21,
   "metadata": {},
   "outputs": [],
   "source": [
    "loss_op = tf.reduce_mean(tf.nn.softmax_cross_entropy_with_logits_v2(\n",
    "    logits=logits, labels=y))"
   ]
  },
  {
   "cell_type": "code",
   "execution_count": 22,
   "metadata": {},
   "outputs": [],
   "source": [
    "train_op = tf.train.AdamOptimizer(learning_rate=0.01).minimize(loss_op)"
   ]
  },
  {
   "cell_type": "markdown",
   "metadata": {},
   "source": [
    "# Early Stopping\n",
    "When validation accuracy doesn't improve while train accuracy keep improves,  \n",
    "we can early stop the train in order to avoid overfitting."
   ]
  },
  {
   "cell_type": "code",
   "execution_count": 23,
   "metadata": {},
   "outputs": [
    {
     "data": {
      "text/html": [
       "<img src=\"https://raw.githubusercontent.com/minsuk-heo/deeplearning/master/img/early_stop.png\" width=\"500\" height=\"250\"/>"
      ],
      "text/plain": [
       "<IPython.core.display.Image object>"
      ]
     },
     "execution_count": 23,
     "metadata": {},
     "output_type": "execute_result"
    }
   ],
   "source": [
    "Image(url= \"https://raw.githubusercontent.com/minsuk-heo/deeplearning/master/img/early_stop.png\", width=500, height=250)"
   ]
  },
  {
   "cell_type": "code",
   "execution_count": 24,
   "metadata": {},
   "outputs": [],
   "source": [
    "# initialize\n",
    "init = tf.global_variables_initializer()\n",
    "\n",
    "# Add ops to save and restore all the variables.\n",
    "saver = tf.train.Saver()\n",
    "\n",
    "# train hyperparameters\n",
    "epoch_cnt = 300\n",
    "batch_size = 1000\n",
    "iteration = len(x_train) // batch_size\n",
    "\n",
    "earlystop_threshold = 5\n",
    "earlystop_cnt = 0"
   ]
  },
  {
   "cell_type": "code",
   "execution_count": 25,
   "metadata": {},
   "outputs": [
    {
     "name": "stdout",
     "output_type": "stream",
     "text": [
      "epoch: 0, train acc: 0.2051, val acc: 0.2073\n",
      "epoch: 1, train acc: 0.71618, val acc: 0.7463\n",
      "epoch: 2, train acc: 0.85374, val acc: 0.8714\n",
      "epoch: 3, train acc: 0.86732, val acc: 0.8775\n",
      "epoch: 4, train acc: 0.87164, val acc: 0.8805\n",
      "epoch: 5, train acc: 0.88568, val acc: 0.8936\n",
      "epoch: 6, train acc: 0.89468, val acc: 0.9053\n",
      "epoch: 7, train acc: 0.89692, val acc: 0.9068\n",
      "epoch: 8, train acc: 0.88106, val acc: 0.893\n",
      "epoch: 9, train acc: 0.87626, val acc: 0.8858\n",
      "epoch: 10, train acc: 0.8929, val acc: 0.8976\n",
      "overfitting warning: 0\n",
      "epoch: 11, train acc: 0.90986, val acc: 0.9135\n",
      "epoch: 12, train acc: 0.60314, val acc: 0.6213\n",
      "epoch: 13, train acc: 0.89902, val acc: 0.9051\n",
      "overfitting warning: 0\n",
      "epoch: 14, train acc: 0.90816, val acc: 0.9083\n",
      "overfitting warning: 1\n",
      "epoch: 15, train acc: 0.90432, val acc: 0.9064\n",
      "epoch: 16, train acc: 0.91086, val acc: 0.9091\n",
      "overfitting warning: 0\n",
      "epoch: 17, train acc: 0.90958, val acc: 0.9075\n",
      "epoch: 18, train acc: 0.8864, val acc: 0.8913\n",
      "epoch: 19, train acc: 0.90518, val acc: 0.9037\n",
      "overfitting warning: 0\n",
      "epoch: 20, train acc: 0.91278, val acc: 0.912\n",
      "overfitting warning: 1\n",
      "epoch: 21, train acc: 0.9124, val acc: 0.9124\n",
      "epoch: 22, train acc: 0.89056, val acc: 0.8923\n",
      "epoch: 23, train acc: 0.92114, val acc: 0.9195\n",
      "epoch: 24, train acc: 0.89118, val acc: 0.8911\n",
      "epoch: 25, train acc: 0.91298, val acc: 0.9142\n",
      "overfitting warning: 0\n",
      "epoch: 26, train acc: 0.91998, val acc: 0.9144\n",
      "overfitting warning: 1\n",
      "epoch: 27, train acc: 0.91468, val acc: 0.9109\n",
      "epoch: 28, train acc: 0.9189, val acc: 0.9142\n",
      "overfitting warning: 0\n",
      "epoch: 29, train acc: 0.912, val acc: 0.9079\n",
      "epoch: 30, train acc: 0.92502, val acc: 0.92\n",
      "epoch: 31, train acc: 0.92216, val acc: 0.9144\n",
      "epoch: 32, train acc: 0.93306, val acc: 0.9253\n",
      "epoch: 33, train acc: 0.92712, val acc: 0.9203\n",
      "epoch: 34, train acc: 0.93412, val acc: 0.9226\n",
      "overfitting warning: 0\n",
      "epoch: 35, train acc: 0.92746, val acc: 0.9172\n",
      "epoch: 36, train acc: 0.93478, val acc: 0.9231\n",
      "overfitting warning: 0\n",
      "epoch: 37, train acc: 0.93384, val acc: 0.9263\n",
      "epoch: 38, train acc: 0.93596, val acc: 0.9237\n",
      "overfitting warning: 0\n",
      "epoch: 39, train acc: 0.91672, val acc: 0.907\n",
      "epoch: 40, train acc: 0.92634, val acc: 0.9168\n",
      "overfitting warning: 0\n",
      "epoch: 41, train acc: 0.94104, val acc: 0.9286\n",
      "epoch: 42, train acc: 0.91084, val acc: 0.9037\n",
      "epoch: 43, train acc: 0.93574, val acc: 0.9221\n",
      "overfitting warning: 0\n",
      "epoch: 44, train acc: 0.95308, val acc: 0.938\n",
      "epoch: 45, train acc: 0.93942, val acc: 0.9265\n",
      "epoch: 46, train acc: 0.92026, val acc: 0.9082\n",
      "epoch: 47, train acc: 0.95724, val acc: 0.9394\n",
      "epoch: 48, train acc: 0.95712, val acc: 0.9398\n",
      "epoch: 49, train acc: 0.95174, val acc: 0.9324\n",
      "epoch: 50, train acc: 0.95126, val acc: 0.929\n",
      "epoch: 51, train acc: 0.9623, val acc: 0.9418\n",
      "epoch: 52, train acc: 0.95804, val acc: 0.9384\n",
      "epoch: 53, train acc: 0.96124, val acc: 0.9406\n",
      "overfitting warning: 0\n",
      "epoch: 54, train acc: 0.9504, val acc: 0.928\n",
      "epoch: 55, train acc: 0.95066, val acc: 0.9315\n",
      "overfitting warning: 0\n",
      "epoch: 56, train acc: 0.95204, val acc: 0.9323\n",
      "overfitting warning: 1\n",
      "epoch: 57, train acc: 0.9556, val acc: 0.9345\n",
      "overfitting warning: 2\n",
      "epoch: 58, train acc: 0.97104, val acc: 0.9491\n",
      "epoch: 59, train acc: 0.96274, val acc: 0.9414\n",
      "epoch: 60, train acc: 0.95818, val acc: 0.9363\n",
      "epoch: 61, train acc: 0.96462, val acc: 0.9403\n",
      "overfitting warning: 0\n",
      "epoch: 62, train acc: 0.97752, val acc: 0.952\n",
      "epoch: 63, train acc: 0.97924, val acc: 0.9516\n",
      "overfitting warning: 0\n",
      "epoch: 64, train acc: 0.96168, val acc: 0.9397\n",
      "epoch: 65, train acc: 0.97306, val acc: 0.949\n",
      "overfitting warning: 0\n",
      "epoch: 66, train acc: 0.97876, val acc: 0.9525\n",
      "epoch: 67, train acc: 0.98102, val acc: 0.9528\n",
      "epoch: 68, train acc: 0.9851, val acc: 0.9549\n",
      "epoch: 69, train acc: 0.9785, val acc: 0.9501\n",
      "epoch: 70, train acc: 0.97738, val acc: 0.9498\n",
      "epoch: 71, train acc: 0.97242, val acc: 0.9477\n",
      "epoch: 72, train acc: 0.97876, val acc: 0.9497\n",
      "overfitting warning: 0\n",
      "epoch: 73, train acc: 0.98862, val acc: 0.9584\n",
      "epoch: 74, train acc: 0.98528, val acc: 0.956\n",
      "epoch: 75, train acc: 0.97704, val acc: 0.9492\n",
      "epoch: 76, train acc: 0.98174, val acc: 0.9525\n",
      "overfitting warning: 0\n",
      "epoch: 77, train acc: 0.9823, val acc: 0.9541\n",
      "overfitting warning: 1\n",
      "epoch: 78, train acc: 0.98594, val acc: 0.9558\n",
      "overfitting warning: 2\n",
      "epoch: 79, train acc: 0.98658, val acc: 0.9578\n",
      "overfitting warning: 3\n",
      "epoch: 80, train acc: 0.98428, val acc: 0.9566\n",
      "epoch: 81, train acc: 0.98738, val acc: 0.9596\n",
      "epoch: 82, train acc: 0.9808, val acc: 0.9518\n",
      "epoch: 83, train acc: 0.97794, val acc: 0.9489\n",
      "epoch: 84, train acc: 0.98024, val acc: 0.9492\n",
      "overfitting warning: 0\n",
      "epoch: 85, train acc: 0.99022, val acc: 0.9569\n",
      "overfitting warning: 1\n",
      "epoch: 86, train acc: 0.9932, val acc: 0.9604\n",
      "epoch: 87, train acc: 0.99268, val acc: 0.9597\n",
      "overfitting warning: 0\n",
      "epoch: 88, train acc: 0.99124, val acc: 0.9579\n",
      "overfitting warning: 1\n",
      "epoch: 89, train acc: 0.99336, val acc: 0.9606\n",
      "epoch: 90, train acc: 0.99146, val acc: 0.9573\n",
      "overfitting warning: 0\n",
      "epoch: 91, train acc: 0.99264, val acc: 0.9614\n",
      "epoch: 92, train acc: 0.99172, val acc: 0.9597\n",
      "overfitting warning: 0\n",
      "epoch: 93, train acc: 0.99026, val acc: 0.9575\n",
      "overfitting warning: 1\n",
      "epoch: 94, train acc: 0.9983, val acc: 0.9656\n",
      "epoch: 95, train acc: 0.99646, val acc: 0.9643\n",
      "overfitting warning: 0\n",
      "epoch: 96, train acc: 0.99716, val acc: 0.966\n",
      "epoch: 97, train acc: 0.99562, val acc: 0.9632\n",
      "overfitting warning: 0\n",
      "epoch: 98, train acc: 0.9987, val acc: 0.9647\n",
      "overfitting warning: 1\n",
      "epoch: 99, train acc: 0.99992, val acc: 0.967\n",
      "epoch: 100, train acc: 0.99984, val acc: 0.9669\n",
      "overfitting warning: 0\n",
      "epoch: 101, train acc: 0.99996, val acc: 0.9679\n",
      "epoch: 102, train acc: 0.99996, val acc: 0.9673\n",
      "overfitting warning: 0\n",
      "epoch: 103, train acc: 1.0, val acc: 0.9682\n",
      "epoch: 104, train acc: 1.0, val acc: 0.9684\n",
      "epoch: 105, train acc: 1.0, val acc: 0.9684\n",
      "epoch: 106, train acc: 1.0, val acc: 0.9685\n",
      "epoch: 107, train acc: 1.0, val acc: 0.9684\n",
      "overfitting warning: 0\n",
      "epoch: 108, train acc: 1.0, val acc: 0.9685\n",
      "epoch: 109, train acc: 1.0, val acc: 0.9685\n",
      "epoch: 110, train acc: 1.0, val acc: 0.9685\n",
      "epoch: 111, train acc: 1.0, val acc: 0.9685\n",
      "epoch: 112, train acc: 1.0, val acc: 0.9685\n",
      "epoch: 113, train acc: 1.0, val acc: 0.9685\n",
      "epoch: 114, train acc: 1.0, val acc: 0.9685\n",
      "epoch: 115, train acc: 1.0, val acc: 0.9685\n",
      "epoch: 116, train acc: 1.0, val acc: 0.9685\n",
      "epoch: 117, train acc: 1.0, val acc: 0.9685\n",
      "epoch: 118, train acc: 1.0, val acc: 0.9685\n",
      "epoch: 119, train acc: 1.0, val acc: 0.9686\n",
      "epoch: 120, train acc: 1.0, val acc: 0.9686\n",
      "epoch: 121, train acc: 1.0, val acc: 0.9687\n",
      "epoch: 122, train acc: 1.0, val acc: 0.9689\n",
      "epoch: 123, train acc: 1.0, val acc: 0.9688\n",
      "overfitting warning: 0\n",
      "epoch: 124, train acc: 1.0, val acc: 0.9689\n",
      "epoch: 125, train acc: 1.0, val acc: 0.9689\n",
      "epoch: 126, train acc: 1.0, val acc: 0.969\n",
      "epoch: 127, train acc: 1.0, val acc: 0.969\n",
      "epoch: 128, train acc: 1.0, val acc: 0.969\n",
      "epoch: 129, train acc: 1.0, val acc: 0.969\n",
      "epoch: 130, train acc: 1.0, val acc: 0.969\n",
      "epoch: 131, train acc: 1.0, val acc: 0.969\n",
      "epoch: 132, train acc: 1.0, val acc: 0.969\n",
      "epoch: 133, train acc: 1.0, val acc: 0.969\n",
      "epoch: 134, train acc: 1.0, val acc: 0.9692\n",
      "epoch: 135, train acc: 1.0, val acc: 0.9693\n",
      "epoch: 136, train acc: 1.0, val acc: 0.9693\n",
      "epoch: 137, train acc: 1.0, val acc: 0.9693\n",
      "epoch: 138, train acc: 1.0, val acc: 0.9695\n",
      "epoch: 139, train acc: 1.0, val acc: 0.9694\n",
      "overfitting warning: 0\n",
      "epoch: 140, train acc: 1.0, val acc: 0.9694\n",
      "overfitting warning: 1\n",
      "epoch: 141, train acc: 1.0, val acc: 0.9694\n",
      "overfitting warning: 2\n",
      "epoch: 142, train acc: 1.0, val acc: 0.9694\n",
      "overfitting warning: 3\n",
      "epoch: 143, train acc: 1.0, val acc: 0.9694\n",
      "overfitting warning: 4\n",
      "epoch: 144, train acc: 1.0, val acc: 0.9694\n",
      "early stopped on 144\n"
     ]
    }
   ],
   "source": [
    "# Start training\n",
    "with tf.Session() as sess:\n",
    "    # Run the initializer\n",
    "    sess.run(init)\n",
    "    prev_train_acc = 0.0\n",
    "    max_val_acc = 0.0\n",
    "    \n",
    "    for epoch in range(epoch_cnt):\n",
    "        avg_loss = 0.\n",
    "        start = 0; end = batch_size\n",
    "        \n",
    "        for i in range(iteration):\n",
    "            _, loss = sess.run([train_op, loss_op], \n",
    "                               feed_dict={x: x_train[start: end], y: y_train[start: end]})\n",
    "            start += batch_size; end += batch_size\n",
    "            # Compute train average loss\n",
    "            avg_loss += loss / iteration\n",
    "            \n",
    "        # Validate model\n",
    "        preds = tf.nn.softmax(logits)  # Apply softmax to logits\n",
    "        correct_prediction = tf.equal(tf.argmax(preds, 1), tf.argmax(y, 1))\n",
    "        # Calculate accuracy\n",
    "        accuracy = tf.reduce_mean(tf.cast(correct_prediction, \"float\"))\n",
    "        # train accuracy\n",
    "        cur_train_acc = accuracy.eval({x: x_train, y: y_train})\n",
    "        # validation accuarcy\n",
    "        cur_val_acc = accuracy.eval({x: x_val, y: y_val})\n",
    "        # validation loss\n",
    "        cur_val_loss = loss_op.eval({x: x_val, y: y_val})\n",
    "        \n",
    "        print(\"epoch: \"+str(epoch)+\n",
    "              \", train acc: \" + str(cur_train_acc) +\n",
    "              \", val acc: \" + str(cur_val_acc) )\n",
    "              #', train loss: '+str(avg_loss)+\n",
    "              #', val loss: '+str(cur_val_loss))\n",
    "        \n",
    "        if cur_val_acc < max_val_acc:\n",
    "            if cur_train_acc > prev_train_acc or cur_train_acc > 0.99:\n",
    "                if earlystop_cnt == earlystop_threshold:\n",
    "                    print(\"early stopped on \"+str(epoch))\n",
    "                    break\n",
    "                else:\n",
    "                    print(\"overfitting warning: \"+str(earlystop_cnt))\n",
    "                    earlystop_cnt += 1\n",
    "            else:\n",
    "                earlystop_cnt = 0\n",
    "        else:\n",
    "            earlystop_cnt = 0\n",
    "            max_val_acc = cur_val_acc\n",
    "            # Save the variables to file.\n",
    "            save_path = saver.save(sess, \"model/model.ckpt\")\n",
    "        prev_train_acc = cur_train_acc"
   ]
  },
  {
   "cell_type": "markdown",
   "metadata": {},
   "source": [
    "# Testing with the best epoch"
   ]
  },
  {
   "cell_type": "code",
   "execution_count": 26,
   "metadata": {},
   "outputs": [
    {
     "name": "stdout",
     "output_type": "stream",
     "text": [
      "INFO:tensorflow:Restoring parameters from model/model.ckpt\n",
      "[Test Accuracy] : 0.9673\n"
     ]
    }
   ],
   "source": [
    "# Start testing\n",
    "with tf.Session() as sess:\n",
    "    # Restore variables from disk.\n",
    "    saver.restore(sess, \"model/model.ckpt\")\n",
    "    correct_prediction = tf.equal(tf.argmax(preds, 1), tf.argmax(y, 1))\n",
    "    # Calculate accuracy\n",
    "    accuracy = tf.reduce_mean(tf.cast(correct_prediction, \"float\"))\n",
    "    print(\"[Test Accuracy] :\", accuracy.eval({x: x_test, y: y_test}))"
   ]
  }
 ],
 "metadata": {
  "kernelspec": {
   "display_name": "Python 3",
   "language": "python",
   "name": "python3"
  },
  "language_info": {
   "codemirror_mode": {
    "name": "ipython",
    "version": 3
   },
   "file_extension": ".py",
   "mimetype": "text/x-python",
   "name": "python",
   "nbconvert_exporter": "python",
   "pygments_lexer": "ipython3",
   "version": "3.6.4"
  }
 },
 "nbformat": 4,
 "nbformat_minor": 2
}
