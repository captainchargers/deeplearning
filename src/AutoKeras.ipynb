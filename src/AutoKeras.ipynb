{
 "cells": [
  {
   "cell_type": "markdown",
   "metadata": {},
   "source": [
    "# AutoKeras Practice\n",
    "We will practice Auto Keras with simple example.  \n",
    "You don't need experties nor GPU for this practice.  \n",
    "All you need is just importing autokeras for image classification."
   ]
  },
  {
   "cell_type": "code",
   "execution_count": 9,
   "metadata": {},
   "outputs": [
    {
     "data": {
      "text/html": [
       "<img src=\"https://github.com/jhfjhfj1/autokeras/blob/master/logo.png?raw=true\" width=\"500\" height=\"250\"/>"
      ],
      "text/plain": [
       "<IPython.core.display.Image object>"
      ]
     },
     "execution_count": 9,
     "metadata": {},
     "output_type": "execute_result"
    }
   ],
   "source": [
    "from IPython.display import Image\n",
    "Image(url= \"https://github.com/jhfjhfj1/autokeras/blob/master/logo.png?raw=true\", width=500, height=250)"
   ]
  },
  {
   "cell_type": "markdown",
   "metadata": {},
   "source": [
    "Auto-Keras is an open source software library for automated machine learning (AutoML).  \n",
    "The ultimate goal of AutoML is to allow domain experts with limited data science or machine learning background easily accessible to deep learning models.  Auto-Keras provides functions to automatically search for architecture and hyperparameters of deep learning models.  \n",
    "http://autokeras.com/"
   ]
  },
  {
   "cell_type": "markdown",
   "metadata": {},
   "source": [
    "# Citing this work\n",
    "If you use Auto-Keras in a scientific publication, you are highly encouraged (though not required) to cite the following paper:\n",
    "\n",
    "Efficient Neural Architecture Search with Network Morphism. Haifeng Jin, Qingquan Song, and Xia Hu. arXiv:1806.10282."
   ]
  },
  {
   "cell_type": "markdown",
   "metadata": {},
   "source": [
    "# Why Auto Keras than other AutoML?\n",
    "### Don't spend time for hyperparameter tuning or playing with different layers.\n",
    "Auto Keras will find it for you automatically.\n",
    "### Auto Keras doesn't have vendor nor cloud platform dependencies.  \n",
    "For example, if you use Google Cloud AutoML, you will have Google Cloud dependency.  \n",
    "With Auto Keras, you can practice AutoML with your laptop or with your GPU cluster if you have GPU cluster."
   ]
  },
  {
   "cell_type": "markdown",
   "metadata": {},
   "source": [
    "# Practice\n",
    "We will practice MNIST image classifier on personal laptop."
   ]
  },
  {
   "cell_type": "code",
   "execution_count": 1,
   "metadata": {},
   "outputs": [
    {
     "name": "stderr",
     "output_type": "stream",
     "text": [
      "Using TensorFlow backend.\n"
     ]
    }
   ],
   "source": [
    "from keras.datasets import mnist\n",
    "from autokeras.classifier import ImageClassifier"
   ]
  },
  {
   "cell_type": "markdown",
   "metadata": {},
   "source": [
    "## Load MNIST data\n",
    "We will practice with MNIST data from keras dataset."
   ]
  },
  {
   "cell_type": "code",
   "execution_count": 2,
   "metadata": {},
   "outputs": [],
   "source": [
    "(x_train, y_train), (x_test, y_test) = mnist.load_data()\n",
    "x_train = x_train.reshape(x_train.shape + (1,))\n",
    "x_test = x_test.reshape(x_test.shape + (1,))"
   ]
  },
  {
   "cell_type": "markdown",
   "metadata": {},
   "source": [
    "## Train\n"
   ]
  },
  {
   "cell_type": "markdown",
   "metadata": {},
   "source": [
    "The main advantage of using Auto Keras is that you even don't need to know about   \n",
    "which Neural Network you will use for your image classifier.  \n",
    "While Auto Keras will try multiple CNN based neural network with different layers and find best one for you."
   ]
  },
  {
   "cell_type": "markdown",
   "metadata": {},
   "source": [
    "Simply running **clf = ImageClassifier()** will work. however in order to see  \n",
    "1) how train is going  \n",
    "2) shorten maximum iteration for fast training  \n",
    "I gave few arguments in this practice.  \n",
    "That said, you even don't need to know iteration for your image classifier training."
   ]
  },
  {
   "cell_type": "code",
   "execution_count": 3,
   "metadata": {},
   "outputs": [],
   "source": [
    "clf = ImageClassifier(verbose=True, searcher_args={'trainer_args':{'max_iter_num':5}})"
   ]
  },
  {
   "cell_type": "markdown",
   "metadata": {},
   "source": [
    "importantly, I gave 5 hours time limit, in order to finish this practice in 5 hours.  \n",
    "By default, Auto Keras has default time limit as 24 hours in current version."
   ]
  },
  {
   "cell_type": "code",
   "execution_count": 4,
   "metadata": {},
   "outputs": [
    {
     "name": "stdout",
     "output_type": "stream",
     "text": [
      "Initializing search.\n",
      "Initialization finished.\n",
      "Training model  0\n",
      "Saving model.\n",
      "Model ID: 0\n",
      "Loss: tensor(5.2479)\n",
      "Accuracy 96.00399999999999\n",
      "Training model  1\n",
      "Father ID:  0\n",
      "[('to_wider_model', 1, 64)]\n",
      "Saving model.\n",
      "Model ID: 1\n",
      "Loss: tensor(5.0132)\n",
      "Accuracy 96.25600000000001\n",
      "Training model  2\n",
      "Father ID:  1\n",
      "[('to_wider_model', 19, 64)]\n",
      "Saving model.\n",
      "Model ID: 2\n",
      "Loss: tensor(3.0112)\n",
      "Accuracy 97.64000000000001\n",
      "Training model  3\n",
      "Father ID:  2\n",
      "[('to_wider_model', 1, 128)]\n",
      "Saving model.\n",
      "Model ID: 3\n",
      "Loss: tensor(2.3075)\n",
      "Accuracy 98.296\n"
     ]
    }
   ],
   "source": [
    "clf.fit(x_train, y_train, time_limit=5 * 60 * 60)"
   ]
  },
  {
   "cell_type": "markdown",
   "metadata": {},
   "source": [
    "from the above result, you can find the auto keras is searching the best model by adjusting CNN model with multiple approach."
   ]
  },
  {
   "cell_type": "markdown",
   "metadata": {},
   "source": [
    "## Train the best model\n",
    "final_fit function will choose best model and fit the model with your data.  \n",
    "in this example. I gave 10 more iteration to make the model be trained more with data.  \n",
    "if you give retrain=True, the model architecture will initialize weights and bias and retrain again."
   ]
  },
  {
   "cell_type": "code",
   "execution_count": 5,
   "metadata": {},
   "outputs": [
    {
     "name": "stdout",
     "output_type": "stream",
     "text": [
      "...............................................\n",
      "Epoch 1: loss 3.737567901611328, accuracy 98.43\n",
      "...............................................\n",
      "Epoch 2: loss 3.925536870956421, accuracy 98.34\n",
      "...............................................\n",
      "Epoch 3: loss 3.422757148742676, accuracy 98.53\n",
      "...............................................\n",
      "Epoch 4: loss 3.3036224842071533, accuracy 98.62\n",
      "...............................................\n",
      "Epoch 5: loss 4.0281524658203125, accuracy 98.45\n",
      "...............................................\n",
      "Epoch 6: loss 3.3080132007598877, accuracy 98.63\n",
      "...............................................\n",
      "Epoch 7: loss 3.359560966491699, accuracy 98.6\n",
      "...............................................\n",
      "Epoch 8: loss 3.4960057735443115, accuracy 98.59\n",
      "...............................................\n",
      "Epoch 9: loss 3.6699087619781494, accuracy 98.51\n",
      "...............................................\n",
      "Epoch 10: loss 3.0567498207092285, accuracy 98.74\n"
     ]
    }
   ],
   "source": [
    "clf.final_fit(x_train, y_train, x_test, y_test, retrain=False, trainer_args={'max_iter_num':10})"
   ]
  },
  {
   "cell_type": "markdown",
   "metadata": {},
   "source": [
    "## Test\n",
    "Testing your best model with test dataset."
   ]
  },
  {
   "cell_type": "code",
   "execution_count": 6,
   "metadata": {},
   "outputs": [
    {
     "name": "stdout",
     "output_type": "stream",
     "text": [
      "98.58\n"
     ]
    }
   ],
   "source": [
    "y = clf.evaluate(x_test, y_test)\n",
    "print(y * 100)"
   ]
  },
  {
   "cell_type": "markdown",
   "metadata": {},
   "source": [
    "# Best Model Architecture Overview\n",
    "Let's take a look a the best image classifier model's architecture"
   ]
  },
  {
   "cell_type": "code",
   "execution_count": 10,
   "metadata": {},
   "outputs": [],
   "source": [
    "best_model = clf.load_searcher().load_best_model()"
   ]
  },
  {
   "cell_type": "markdown",
   "metadata": {},
   "source": [
    "we can find the total number of layers by command below,"
   ]
  },
  {
   "cell_type": "code",
   "execution_count": 19,
   "metadata": {},
   "outputs": [
    {
     "data": {
      "text/plain": [
       "51"
      ]
     },
     "execution_count": 19,
     "metadata": {},
     "output_type": "execute_result"
    }
   ],
   "source": [
    "best_model.n_layers"
   ]
  },
  {
   "cell_type": "markdown",
   "metadata": {},
   "source": [
    "You can find model architecture by command below,"
   ]
  },
  {
   "cell_type": "code",
   "execution_count": 22,
   "metadata": {},
   "outputs": [
    {
     "name": "stdout",
     "output_type": "stream",
     "text": [
      "TorchModel(\n",
      "  (0): ReLU()\n",
      "  (1): Conv2d(1, 64, kernel_size=(3, 3), stride=(1, 1), padding=(1.5, 1.5))\n",
      "  (2): BatchNorm2d(64, eps=1e-05, momentum=0.1, affine=True, track_running_stats=True)\n",
      "  (3): Dropout2d(p=0.25)\n",
      "  (4): MaxPool2d(kernel_size=2, stride=2, padding=0, dilation=1, ceil_mode=False)\n",
      "  (5): ReLU()\n",
      "  (6): Conv2d(128, 64, kernel_size=(3, 3), stride=(1, 1), padding=(1.5, 1.5))\n",
      "  (7): BatchNorm2d(64, eps=1e-05, momentum=0.1, affine=True, track_running_stats=True)\n",
      "  (8): Dropout2d(p=0.25)\n",
      "  (9): MaxPool2d(kernel_size=2, stride=2, padding=0, dilation=1, ceil_mode=False)\n",
      "  (10): ReLU()\n",
      "  (11): Conv2d(64, 64, kernel_size=(3, 3), stride=(1, 1), padding=(1.5, 1.5))\n",
      "  (12): BatchNorm2d(64, eps=1e-05, momentum=0.1, affine=True, track_running_stats=True)\n",
      "  (13): Dropout2d(p=0.25)\n",
      "  (14): MaxPool2d(kernel_size=2, stride=2, padding=0, dilation=1, ceil_mode=False)\n",
      "  (15): TorchFlatten()\n",
      "  (16): Linear(in_features=576, out_features=10, bias=True)\n",
      "  (17): LogSoftmax()\n",
      "  (18): ReLU()\n",
      "  (19): Conv2d(64, 128, kernel_size=(3, 3), stride=(1, 1), padding=(1.5, 1.5))\n",
      "  (20): BatchNorm2d(128, eps=1e-05, momentum=0.1, affine=True, track_running_stats=True)\n",
      "  (21): Dropout2d(p=0.25)\n",
      "  (22): ReLU()\n",
      "  (23): Conv2d(64, 64, kernel_size=(3, 3), stride=(1, 1), padding=(1.5, 1.5))\n",
      "  (24): BatchNorm2d(64, eps=1e-05, momentum=0.1, affine=True, track_running_stats=True)\n",
      "  (25): Dropout2d(p=0.25)\n",
      "  (26): ReLU()\n",
      "  (27): Conv2d(64, 64, kernel_size=(3, 3), stride=(1, 1), padding=(1.5, 1.5))\n",
      "  (28): BatchNorm2d(64, eps=1e-05, momentum=0.1, affine=True, track_running_stats=True)\n",
      "  (29): Dropout2d(p=0.25)\n",
      "  (30): ReLU()\n",
      "  (31): Conv2d(64, 64, kernel_size=(3, 3), stride=(1, 1), padding=(1.5, 1.5))\n",
      "  (32): BatchNorm2d(64, eps=1e-05, momentum=0.1, affine=True, track_running_stats=True)\n",
      "  (33): Dropout2d(p=0.25)\n",
      "  (34): ReLU()\n",
      "  (35): Conv2d(64, 128, kernel_size=(1, 1), stride=(1, 1), padding=(0.5, 0.5))\n",
      "  (36): BatchNorm2d(128, eps=1e-05, momentum=0.1, affine=True, track_running_stats=True)\n",
      "  (37): Dropout2d(p=0.25)\n",
      "  (38): TorchAdd()\n",
      "  (39): MaxPool2d(kernel_size=2, stride=2, padding=0, dilation=1, ceil_mode=False)\n",
      "  (40): ReLU()\n",
      "  (41): Conv2d(128, 64, kernel_size=(1, 1), stride=(1, 1), padding=(0.5, 0.5))\n",
      "  (42): BatchNorm2d(64, eps=1e-05, momentum=0.1, affine=True, track_running_stats=True)\n",
      "  (43): Dropout2d(p=0.25)\n",
      "  (44): TorchAdd()\n",
      "  (45): MaxPool2d(kernel_size=2, stride=2, padding=0, dilation=1, ceil_mode=False)\n",
      "  (46): ReLU()\n",
      "  (47): Conv2d(64, 64, kernel_size=(1, 1), stride=(1, 1), padding=(0.5, 0.5))\n",
      "  (48): BatchNorm2d(64, eps=1e-05, momentum=0.1, affine=True, track_running_stats=True)\n",
      "  (49): Dropout2d(p=0.25)\n",
      "  (50): TorchAdd()\n",
      ")\n"
     ]
    }
   ],
   "source": [
    "from torchvision import models\n",
    "print(best_model.produce_model())"
   ]
  }
 ],
 "metadata": {
  "kernelspec": {
   "display_name": "Python 3",
   "language": "python",
   "name": "python3"
  },
  "language_info": {
   "codemirror_mode": {
    "name": "ipython",
    "version": 3
   },
   "file_extension": ".py",
   "mimetype": "text/x-python",
   "name": "python",
   "nbconvert_exporter": "python",
   "pygments_lexer": "ipython3",
   "version": "3.6.4"
  }
 },
 "nbformat": 4,
 "nbformat_minor": 2
}
